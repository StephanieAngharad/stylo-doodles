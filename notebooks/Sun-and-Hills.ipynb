{
 "cells": [
  {
   "cell_type": "code",
   "execution_count": 6,
   "metadata": {},
   "outputs": [
    {
     "data": {
      "text/plain": [
       "'0.5.0'"
      ]
     },
     "execution_count": 6,
     "metadata": {},
     "output_type": "execute_result"
    }
   ],
   "source": [
    "import stylo\n",
    "stylo.__version__"
   ]
  },
  {
   "cell_type": "code",
   "execution_count": 32,
   "metadata": {},
   "outputs": [],
   "source": [
    "from stylo.shape import Circle\n",
    "from stylo.color import FillColor\n",
    "from stylo.image import LayeredImage\n",
    "from stylo.domain import SquareDomain\n",
    "from stylo.domain.transform import translate\n",
    "\n",
    "%matplotlib inline"
   ]
  },
  {
   "cell_type": "code",
   "execution_count": 33,
   "metadata": {},
   "outputs": [],
   "source": [
    "hillgreen = FillColor(\"00ee00\")\n",
    "darkhillgreen = FillColor(\"00cc00\")\n",
    "lighthillgreen = FillColor(\"00ff00\")\n",
    "white = FillColor(\"ffffff\")\n",
    "sunlight = FillColor(\"ffff00\")"
   ]
  },
  {
   "cell_type": "code",
   "execution_count": 34,
   "metadata": {},
   "outputs": [],
   "source": [
    "hill1 = Circle(0, 0, 8) >> translate(5, -7)\n",
    "hill2 = Circle(0, 0, 8) >> translate(-6, -6)\n",
    "hill3 = Circle(0, 0, 10) >> translate(-2, -12)"
   ]
  },
  {
   "cell_type": "code",
   "execution_count": 40,
   "metadata": {},
   "outputs": [],
   "source": [
    "def make_cloud(x, y, scale=1):\n",
    "    cloud = Circle(x +0, y + 0.4, 0.75*scale)\n",
    "    cloud |= Circle(x + 0.6, y + 0.25, 0.6*scale)\n",
    "    cloud |= Circle(x + -0.6, y + 0.25, 0.6*scale)\n",
    "    cloud |= Circle(x + -1.2, y + -0.4, 0.65*scale)\n",
    "    cloud |= Circle(x + 1.2, y + -0.4, 0.65*scale)\n",
    "    cloud |= Circle(x + 0, y + -0.3, 0.8*scale)\n",
    "    \n",
    "    return cloud"
   ]
  },
  {
   "cell_type": "code",
   "execution_count": 90,
   "metadata": {},
   "outputs": [],
   "source": [
    "cloud1 = make_cloud(7, 4, 1) \n",
    "cloud2 = make_cloud(3, 3, 1) \n",
    "cloud3 = make_cloud(-5.5, 4.5, 1)\n",
    "cloud4 = make_cloud(-9.5, 5, 1)"
   ]
  },
  {
   "cell_type": "code",
   "execution_count": 91,
   "metadata": {},
   "outputs": [],
   "source": [
    "sun = Circle(-8, 5, 2.2)"
   ]
  },
  {
   "cell_type": "code",
   "execution_count": 92,
   "metadata": {},
   "outputs": [
    {
     "name": "stdout",
     "output_type": "stream",
     "text": [
      "CPU times: user 1.24 s, sys: 830 ms, total: 2.06 s\n",
      "Wall time: 2.08 s\n"
     ]
    },
    {
     "data": {
      "image/png": "[encoded data removed]",
      "text/plain": [
       "<Figure size 864x864 with 1 Axes>"
      ]
     },
     "metadata": {
      "needs_background": "light"
     },
     "output_type": "display_data"
    }
   ],
   "source": [
    "%%time \n",
    "image = LayeredImage(background=\"aaeeff\", scale=12)\n",
    "\n",
    "image.add_layer(hill2, darkhillgreen)\n",
    "image.add_layer(hill1, hillgreen)\n",
    "image.add_layer(hill3, lighthillgreen)\n",
    "\n",
    "image.add_layer(sun, sunlight)\n",
    "\n",
    "image.add_layer(cloud1, white)\n",
    "image.add_layer(cloud2, white)\n",
    "image.add_layer(cloud3, white)\n",
    "image.add_layer(cloud4, white)\n",
    "\n",
    "image(1920, 1080, plot_size=12);"
   ]
  },
  {
   "cell_type": "code",
   "execution_count": null,
   "metadata": {},
   "outputs": [],
   "source": []
  }
 ],
 "metadata": {
  "kernelspec": {
   "display_name": "Python 3",
   "language": "python",
   "name": "python3"
  },
  "language_info": {
   "codemirror_mode": {
    "name": "ipython",
    "version": 3
   },
   "file_extension": ".py",
   "mimetype": "text/x-python",
   "name": "python",
   "nbconvert_exporter": "python",
   "pygments_lexer": "ipython3",
   "version": "3.7.0"
  }
 },
 "nbformat": 4,
 "nbformat_minor": 2
}
