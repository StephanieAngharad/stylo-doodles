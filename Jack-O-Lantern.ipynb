{
 "cells": [
  {
   "cell_type": "code",
   "execution_count": 103,
   "metadata": {},
   "outputs": [],
   "source": [
    "from stylo.image import LayeredImage\n",
    "from stylo.shape import Circle, Ellipse, Triangle, Rectangle\n",
    "from stylo.color import FillColor\n",
    "from stylo.domain.transform import translate, rotate\n",
    "\n",
    "from math import pi\n",
    "\n",
    "%matplotlib inline"
   ]
  },
  {
   "cell_type": "code",
   "execution_count": 148,
   "metadata": {},
   "outputs": [],
   "source": [
    "orange = FillColor(\"ffaa00\")\n",
    "darker_orange = FillColor(\"dd9900\")\n",
    "black = FillColor(\"000000\")\n",
    "green = FillColor(\"00dd00\")"
   ]
  },
  {
   "cell_type": "code",
   "execution_count": 69,
   "metadata": {},
   "outputs": [],
   "source": [
    "def make_segment(size=0.8):\n",
    "    return Ellipse(0, -0.15, 1/2, 1, size)"
   ]
  },
  {
   "cell_type": "code",
   "execution_count": 70,
   "metadata": {},
   "outputs": [],
   "source": [
    "middle = make_segment()\n",
    "middle_outline = make_segment(0.825)\n",
    "\n",
    "left = make_segment() >> translate(-0.5, 0)\n",
    "left_outline = make_segment(0.825) >> translate(-0.5, 0)\n",
    "\n",
    "right = make_segment() >> translate(0.5, 0)\n",
    "right_outline = make_segment(0.825) >> translate(0.5, 0)"
   ]
  },
  {
   "cell_type": "code",
   "execution_count": 85,
   "metadata": {},
   "outputs": [],
   "source": [
    "left_eye = Triangle((0,0), (-0.25, -0.1), (-0.25, 0.1)) >> rotate(pi/8) >> translate(-0.35, 0) \n",
    "right_eye = Triangle((0, 0), (0.25, -0.1), (0.25, 0.1)) >> rotate(-pi/8) >> translate(0.35, 0)\n",
    "\n",
    "nose = Triangle((0,0), (-0.15, -0.15), (0.15, -0.15))"
   ]
  },
  {
   "cell_type": "code",
   "execution_count": 144,
   "metadata": {},
   "outputs": [],
   "source": [
    "cutouts = Circle(0, 0.5, 1)\n",
    "cutouts |= Rectangle(-0.3, -0.45, 0.15, 0.2)\n",
    "cutouts |= Rectangle(0.2, -0.475, 0.15, 0.2)\n",
    "cutouts |= Rectangle(-0.05, -0.7, 0.15, 0.2)\n",
    "\n",
    "mouth = Ellipse(0, -.3, 2, 1, 0.4) & ~cutouts"
   ]
  },
  {
   "cell_type": "code",
   "execution_count": 178,
   "metadata": {},
   "outputs": [],
   "source": [
    "offset = 0.1\n",
    "stem = Ellipse(0 + offset, 0.4, 1, 8, 0.2) & ~Circle(0.25 + offset, 0.6, 0.35)"
   ]
  },
  {
   "cell_type": "code",
   "execution_count": 181,
   "metadata": {},
   "outputs": [
    {
     "name": "stdout",
     "output_type": "stream",
     "text": [
      "CPU times: user 1.6 s, sys: 646 ms, total: 2.24 s\n",
      "Wall time: 2.25 s\n"
     ]
    },
    {
     "data": {
      "image/png": "[encoded data removed]",
      "text/plain": [
       "<Figure size 864x864 with 1 Axes>"
      ]
     },
     "metadata": {
      "needs_background": "light"
     },
     "output_type": "display_data"
    }
   ],
   "source": [
    "%%time\n",
    "\n",
    "image = LayeredImage()\n",
    "\n",
    "image.add_layer(stem, green)\n",
    "\n",
    "image.add_layer(left_outline, darker_orange)\n",
    "image.add_layer(right_outline, darker_orange)\n",
    "image.add_layer(left, orange)\n",
    "image.add_layer(right, orange)\n",
    "\n",
    "image.add_layer(middle_outline, darker_orange)\n",
    "image.add_layer(middle, orange)\n",
    "\n",
    "image.add_layer(left_eye, black)\n",
    "image.add_layer(right_eye, black)\n",
    "image.add_layer(nose, black)\n",
    "\n",
    "image.add_layer(mouth, black)\n",
    "\n",
    "#image.add_layer(test, red)\n",
    "\n",
    "image(1920, 1080);"
   ]
  },
  {
   "cell_type": "code",
   "execution_count": null,
   "metadata": {},
   "outputs": [],
   "source": []
  }
 ],
 "metadata": {
  "kernelspec": {
   "display_name": "Python 3",
   "language": "python",
   "name": "python3"
  },
  "language_info": {
   "codemirror_mode": {
    "name": "ipython",
    "version": 3
   },
   "file_extension": ".py",
   "mimetype": "text/x-python",
   "name": "python",
   "nbconvert_exporter": "python",
   "pygments_lexer": "ipython3",
   "version": "3.7.0"
  }
 },
 "nbformat": 4,
 "nbformat_minor": 2
}
